{
 "cells": [
  {
   "cell_type": "code",
   "execution_count": null,
   "id": "57423935-58b8-4997-8c40-d054d3b69dfe",
   "metadata": {},
   "outputs": [],
   "source": [
    "import pandas as pd\n",
    "import numpy as np\n",
    "import matplotlib.pyplot as plt\n",
    "from sklearn.cluster import KMeans, AffinityPropagation\n",
    "from sklearn.preprocessing import StandardScaler\n",
    "from sklearn.decomposition import PCA\n",
    "from sklearn.metrics import silhouette_score\n",
    "from mpl_toolkits.mplot3d import Axes3D\n",
    "\n",
    "data = pd.read_csv('DaneSportowcow.csv')\n",
    "\n",
    "columns = ['age', 'height', 'weight', 'AeT', 'AnT', 'vo2max_l_m', 'hr_8', 'la_8']\n",
    "X = data[columns].dropna()  \n",
    "\n",
    "scaler = StandardScaler()\n",
    "X_scaled = scaler.fit_transform(X)\n",
    "\n",
    "kmeans = KMeans(n_clusters=3, random_state=42) \n",
    "kmeans_labels = kmeans.fit_predict(X_scaled)\n",
    "\n",
    "affinity = AffinityPropagation(random_state=42)\n",
    "affinity_labels = affinity.fit_predict(X_scaled)\n",
    "\n",
    "pca_3d = PCA(n_components=3)\n",
    "X_pca_3d = pca_3d.fit_transform(X_scaled)\n",
    "\n",
    "fig = plt.figure(figsize=(12, 6))\n",
    "\n",
    "ax1 = fig.add_subplot(121, projection='3d')\n",
    "ax1.scatter(X_pca_3d[:, 0], X_pca_3d[:, 1], X_pca_3d[:, 2], c=kmeans_labels, cmap='viridis', s=50)\n",
    "ax1.set_title('K-Means Clustering (3D)')\n",
    "ax1.set_xlabel('PCA Component 1')\n",
    "ax1.set_ylabel('PCA Component 2')\n",
    "ax1.set_zlabel('PCA Component 3')\n",
    "\n",
    "ax2 = fig.add_subplot(122, projection='3d')\n",
    "ax2.scatter(X_pca_3d[:, 0], X_pca_3d[:, 1], X_pca_3d[:, 2], c=affinity_labels, cmap='viridis', s=50)\n",
    "ax2.set_title('Affinity Propagation Clustering (3D)')\n",
    "ax2.set_xlabel('PCA Component 1')\n",
    "ax2.set_ylabel('PCA Component 2')\n",
    "ax2.set_zlabel('PCA Component 3')\n",
    "\n",
    "plt.tight_layout()\n",
    "plt.show()\n",
    "\n",
    "print(f\"Silhouette Score for K-Means: {silhouette_score(X_scaled, kmeans_labels):.2f}\")\n",
    "print(f\"Silhouette Score for Affinity Propagation: {silhouette_score(X_scaled, affinity_labels):.2f}\")\n",
    "\n",
    "\n",
    "\n"
   ]
  }
 ],
 "metadata": {
  "kernelspec": {
   "display_name": "Python 3",
   "language": "python",
   "name": "python3"
  },
  "language_info": {
   "codemirror_mode": {
    "name": "ipython",
    "version": 3
   },
   "file_extension": ".py",
   "mimetype": "text/x-python",
   "name": "python",
   "nbconvert_exporter": "python",
   "pygments_lexer": "ipython3",
   "version": "3.10.7"
  }
 },
 "nbformat": 4,
 "nbformat_minor": 5
}
